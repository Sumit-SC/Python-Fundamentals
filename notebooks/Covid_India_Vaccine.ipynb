{
 "cells": [
  {
   "cell_type": "markdown",
   "id": "b65e923c",
   "metadata": {},
   "source": [
    "# Covid-19 Vaccination EDA (India)"
   ]
  },
  {
   "cell_type": "markdown",
   "id": "6938a089",
   "metadata": {},
   "source": [
    "##### Requirements step (Uncomment the below code to install missing libary if not using jupyter or anaconda installation)"
   ]
  },
  {
   "cell_type": "code",
   "execution_count": null,
   "id": "495d8ece",
   "metadata": {},
   "outputs": [],
   "source": [
    "# !pip install numpy pandas matplotlib seaborn"
   ]
  },
  {
   "cell_type": "markdown",
   "id": "5d581be9",
   "metadata": {},
   "source": [
    "#### Import the libraries"
   ]
  },
  {
   "cell_type": "code",
   "execution_count": null,
   "id": "046dcf3f",
   "metadata": {
    "scrolled": true
   },
   "outputs": [],
   "source": [
    "import numpy as np\n",
    "import pandas as pd\n",
    "import matplotlib.pyplot as plt\n",
    "import seaborn as sns"
   ]
  },
  {
   "cell_type": "markdown",
   "id": "3196e51d",
   "metadata": {},
   "source": [
    "#### Read the dataset"
   ]
  },
  {
   "cell_type": "code",
   "execution_count": null,
   "id": "edf41699",
   "metadata": {},
   "outputs": [],
   "source": [
    "df = pd.read_csv('../data/processed/country_vaccinations.csv')\n",
    "df.head()"
   ]
  },
  {
   "cell_type": "code",
   "execution_count": null,
   "id": "6a7c425f",
   "metadata": {},
   "outputs": [],
   "source": [
    "df.shape\n",
    "# rows = 86512, cols = 15"
   ]
  },
  {
   "cell_type": "code",
   "execution_count": null,
   "id": "2a1864e7",
   "metadata": {},
   "outputs": [],
   "source": [
    "df.columns"
   ]
  },
  {
   "cell_type": "code",
   "execution_count": null,
   "id": "a27cbea6",
   "metadata": {},
   "outputs": [],
   "source": [
    "dfi = df[df['country'] == 'India']\n",
    "dfi.shape"
   ]
  },
  {
   "cell_type": "code",
   "execution_count": null,
   "id": "258c3307",
   "metadata": {},
   "outputs": [],
   "source": [
    "dfi.head()"
   ]
  },
  {
   "cell_type": "markdown",
   "id": "e5eaba7d",
   "metadata": {},
   "source": [
    "#### Data Preprocessing"
   ]
  },
  {
   "cell_type": "markdown",
   "id": "ef566552",
   "metadata": {},
   "source": [
    "#### 1) Handling Null values"
   ]
  },
  {
   "cell_type": "code",
   "execution_count": null,
   "id": "47969c4d",
   "metadata": {},
   "outputs": [],
   "source": [
    "dfi.isnull().sum()"
   ]
  },
  {
   "cell_type": "code",
   "execution_count": null,
   "id": "fe740199",
   "metadata": {},
   "outputs": [],
   "source": [
    "dfi.dtypes"
   ]
  },
  {
   "cell_type": "code",
   "execution_count": null,
   "id": "4353a01e",
   "metadata": {},
   "outputs": [],
   "source": [
    "# nv = null value\n",
    "nv_dfi = dfi.isnull().sum()\n",
    "nv_dfi = nv_dfi[nv_dfi > 0]\n",
    "nv_dfi"
   ]
  },
  {
   "cell_type": "code",
   "execution_count": null,
   "id": "e186581d",
   "metadata": {},
   "outputs": [],
   "source": [
    "for i in nv_dfi.index:\n",
    "    dfi[i] = dfi[i].fillna(dfi[i].median())"
   ]
  },
  {
   "cell_type": "code",
   "execution_count": null,
   "id": "a166ac6f",
   "metadata": {},
   "outputs": [],
   "source": [
    "dfi.isnull().sum()"
   ]
  },
  {
   "cell_type": "markdown",
   "id": "4e8e2fdf",
   "metadata": {},
   "source": [
    "#### 2) Handling Duplicates"
   ]
  },
  {
   "cell_type": "code",
   "execution_count": null,
   "id": "d712a39a",
   "metadata": {},
   "outputs": [],
   "source": [
    "dfi.duplicated().sum()"
   ]
  },
  {
   "cell_type": "markdown",
   "id": "df3499cc",
   "metadata": {},
   "source": [
    "#### 3) Check the data types"
   ]
  },
  {
   "cell_type": "code",
   "execution_count": null,
   "id": "1df9ea57",
   "metadata": {},
   "outputs": [],
   "source": [
    "dfi.dtypes"
   ]
  },
  {
   "cell_type": "code",
   "execution_count": null,
   "id": "96f4d6aa",
   "metadata": {},
   "outputs": [],
   "source": [
    "dfi['date1'] = pd.to_datetime(dfi['date'])\n",
    "dfi.dtypes"
   ]
  },
  {
   "cell_type": "code",
   "execution_count": null,
   "id": "ca2e1cc2",
   "metadata": {},
   "outputs": [],
   "source": [
    "print(dfi.date1.min())  # 15 Jan, 21\n",
    "print(dfi.date1.max())  # 29 Mar, 22"
   ]
  },
  {
   "cell_type": "code",
   "execution_count": null,
   "id": "8a8b97a8",
   "metadata": {},
   "outputs": [],
   "source": [
    "dfi.date.sort_values().head(10)"
   ]
  },
  {
   "cell_type": "markdown",
   "id": "d4fb9f20",
   "metadata": {},
   "source": [
    "#### Drop Redundant Features"
   ]
  },
  {
   "cell_type": "code",
   "execution_count": null,
   "id": "a4966e57",
   "metadata": {},
   "outputs": [],
   "source": [
    "dfi.columns"
   ]
  },
  {
   "cell_type": "code",
   "execution_count": null,
   "id": "8e888e10",
   "metadata": {},
   "outputs": [],
   "source": [
    "dfi.head()"
   ]
  },
  {
   "cell_type": "code",
   "execution_count": null,
   "id": "023a3bce",
   "metadata": {},
   "outputs": [],
   "source": [
    "print(dfi['source_name'].value_counts())\n",
    "print(dfi['source_website'].value_counts())\n",
    "print(dfi['vaccines'].value_counts())"
   ]
  },
  {
   "cell_type": "code",
   "execution_count": null,
   "id": "28afeae0",
   "metadata": {},
   "outputs": [],
   "source": [
    "dfi.drop(['country', 'iso_code', 'source_name',\n",
    "         'source_website', 'vaccines'], axis=1, inplace=True)\n",
    "dfi.head()"
   ]
  },
  {
   "cell_type": "code",
   "execution_count": null,
   "id": "4a7019c1",
   "metadata": {},
   "outputs": [],
   "source": [
    "dfi.columns"
   ]
  },
  {
   "cell_type": "code",
   "execution_count": null,
   "id": "2956decf",
   "metadata": {},
   "outputs": [],
   "source": [
    "dfi['Year'] = dfi['date1'].dt.year\n",
    "dfi['Qtr'] = dfi['date1'].dt.quarter\n",
    "dfi['Month'] = dfi['date1'].dt.month  # month number\n",
    "dfi.columns"
   ]
  },
  {
   "cell_type": "code",
   "execution_count": null,
   "id": "2625ce55",
   "metadata": {},
   "outputs": [],
   "source": [
    "dfi.head(15)"
   ]
  },
  {
   "cell_type": "code",
   "execution_count": null,
   "id": "5a413ff2",
   "metadata": {},
   "outputs": [],
   "source": [
    "plt.plot(dfi['date1'], dfi['total_vaccinations'], label='Total Vaccinations')\n",
    "plt.plot(dfi['date1'], dfi['people_vaccinated'], label='People vaccinated')\n",
    "plt.legend()\n",
    "plt.grid()\n",
    "plt.show()"
   ]
  },
  {
   "cell_type": "markdown",
   "id": "5b941a8d",
   "metadata": {},
   "source": [
    "#### Qtr wise Total Vaccinations"
   ]
  },
  {
   "cell_type": "code",
   "execution_count": null,
   "id": "59624f88",
   "metadata": {},
   "outputs": [],
   "source": [
    "dfi.columns"
   ]
  },
  {
   "cell_type": "code",
   "execution_count": null,
   "id": "d2624f58",
   "metadata": {},
   "outputs": [],
   "source": [
    "sns.barplot(x=dfi['Qtr'], y=dfi['total_vaccinations'])\n",
    "plt.show()"
   ]
  },
  {
   "cell_type": "code",
   "execution_count": null,
   "id": "f2d8f4fd",
   "metadata": {},
   "outputs": [],
   "source": [
    "plt.plot(dfi['date1'], dfi['daily_vaccinations_raw'],\n",
    "         label='daily_vaccinations_raw')\n",
    "plt.plot(dfi['date1'], dfi['daily_vaccinations'], label='daily_vaccinations')\n",
    "plt.legend()\n",
    "plt.grid()\n",
    "plt.show()"
   ]
  },
  {
   "cell_type": "code",
   "execution_count": null,
   "id": "1333fa94",
   "metadata": {},
   "outputs": [],
   "source": [
    "sns.lineplot(x=dfi['date1'], y=dfi['daily_vaccinations_raw'],\n",
    "             label='daily_vaccinations_raw')\n",
    "sns.lineplot(x=dfi['date1'], y=dfi['daily_vaccinations'],\n",
    "             label='daily_vaccinations')\n",
    "plt.legend()\n",
    "plt.grid()\n",
    "plt.show()"
   ]
  },
  {
   "cell_type": "code",
   "execution_count": null,
   "id": "4e0f3223",
   "metadata": {},
   "outputs": [],
   "source": [
    "dfi.columns"
   ]
  },
  {
   "cell_type": "code",
   "execution_count": null,
   "id": "ad6ccb1e",
   "metadata": {},
   "outputs": [],
   "source": [
    "sns.lineplot(x=dfi['date1'], y=dfi['total_vaccinations_per_hundred'],\n",
    "             label='total_vaccinations_per_hundred')\n",
    "sns.lineplot(x=dfi['date1'], y=dfi['people_vaccinated_per_hundred'],\n",
    "             label='people_vaccinated_per_hundred')\n",
    "sns.lineplot(x=dfi['date1'], y=dfi['people_fully_vaccinated_per_hundred'],\n",
    "             label='people_fully_vaccinated_per_hundred')\n",
    "plt.legend()\n",
    "plt.grid()\n",
    "plt.show()"
   ]
  },
  {
   "cell_type": "markdown",
   "id": "9836ef65",
   "metadata": {},
   "source": [
    "#### Month wise Total Vaccinations in decreasing order"
   ]
  },
  {
   "cell_type": "code",
   "execution_count": null,
   "id": "07eb652f",
   "metadata": {},
   "outputs": [],
   "source": [
    "dfi.columns"
   ]
  },
  {
   "cell_type": "code",
   "execution_count": null,
   "id": "230920f6",
   "metadata": {},
   "outputs": [],
   "source": [
    "a1 = dfi.groupby('Month')['total_vaccinations'].mean()\n",
    "a1"
   ]
  },
  {
   "cell_type": "code",
   "execution_count": null,
   "id": "80cad7dc",
   "metadata": {},
   "outputs": [],
   "source": [
    "sns.barplot(x=a1.index, y=a1.values,\n",
    "            order=a1.sort_values(ascending=False).index)\n",
    "plt.title('Month wise Mean of Total Vaccinations')\n",
    "plt.show()"
   ]
  },
  {
   "cell_type": "code",
   "execution_count": null,
   "id": "10a4f4ce",
   "metadata": {},
   "outputs": [],
   "source": [
    "dfi.head()"
   ]
  },
  {
   "cell_type": "code",
   "execution_count": null,
   "id": "9478f3d2",
   "metadata": {},
   "outputs": [],
   "source": [
    "sns.jointplot(x=dfi['total_vaccinations'],\n",
    "              y=dfi['people_fully_vaccinated'], color='orange')\n",
    "plt.show()"
   ]
  },
  {
   "cell_type": "code",
   "execution_count": null,
   "id": "b2f2f822",
   "metadata": {},
   "outputs": [],
   "source": [
    "sns.scatterplot(x=dfi['total_vaccinations'], y=dfi['people_fully_vaccinated'])\n",
    "plt.show()"
   ]
  },
  {
   "cell_type": "code",
   "execution_count": null,
   "id": "3d339894",
   "metadata": {},
   "outputs": [],
   "source": [
    "print(df['country'].nunique())\n",
    "df['country'].value_counts()"
   ]
  },
  {
   "cell_type": "markdown",
   "id": "3f05d71a",
   "metadata": {},
   "source": [
    "###### Various Types of Variates \n",
    "\n",
    "1. Univarite : \n",
    "> countplot, boxplot, violinplot, kdeplot,histplot,distplot\n",
    "\n",
    "2. Bivariate :\n",
    "> barplot, countplot, boxplot, violinplot, lineplot, stripplot, swarmplot,heatmap, pairplot, scatterplot, jointplot\n",
    "\n",
    "3. Multi-variate :\n",
    "> Pairplot, heatmap, scatterplot, boxplot, violinplot, stripplot, swarmplot"
   ]
  },
  {
   "cell_type": "markdown",
   "id": "a1adc559",
   "metadata": {},
   "source": [
    "The spine plots are the plots which are plotted using the tick marks or dots. These plots don’t have any boundaries. The Seborn.despine() method helps to remove the top and right spines in a plot."
   ]
  },
  {
   "cell_type": "code",
   "execution_count": null,
   "id": "0e6ca7e4",
   "metadata": {},
   "outputs": [],
   "source": [
    "titanic = sns.load_dataset(\"titanic\")\n",
    "titanic.head()"
   ]
  },
  {
   "cell_type": "code",
   "execution_count": null,
   "id": "572a62d7",
   "metadata": {},
   "outputs": [],
   "source": [
    "sns.stripplot(x=\"age\", y=\"who\", hue=\"alive\", data=titanic)\n",
    "# sns.despine()\n",
    "plt.show()"
   ]
  },
  {
   "cell_type": "code",
   "execution_count": null,
   "id": "7a0f7086",
   "metadata": {},
   "outputs": [],
   "source": [
    "sns.stripplot(x=\"age\", y=\"who\", hue=\"alive\", data=titanic)\n",
    "sns.despine()\n",
    "plt.show()"
   ]
  },
  {
   "cell_type": "code",
   "execution_count": null,
   "id": "60656532",
   "metadata": {},
   "outputs": [],
   "source": [
    "sns.stripplot(x=\"age\", y=\"who\", hue=\"alive\", data=titanic)\n",
    "sns.despine(top=True, right=False, bottom=True)\n",
    "plt.show()"
   ]
  },
  {
   "cell_type": "code",
   "execution_count": null,
   "id": "8e7de538",
   "metadata": {},
   "outputs": [],
   "source": [
    "sns.stripplot(x=\"age\", y=\"who\", hue=\"alive\", data=titanic)\n",
    "sns.despine(top=True, right=True, bottom=True, left=True)\n",
    "plt.show()"
   ]
  },
  {
   "cell_type": "code",
   "execution_count": null,
   "id": "283c9225",
   "metadata": {},
   "outputs": [],
   "source": [
    "sns.stripplot(x=\"age\", y=\"who\", hue=\"alive\", data=titanic)\n",
    "sns.despine(offset={\"top\": 3, \"bottom\": 5, \"right\": 6, \"left\": 4},\n",
    "            top=False, right=False)\n",
    "plt.show()"
   ]
  },
  {
   "cell_type": "markdown",
   "id": "431f5753",
   "metadata": {},
   "source": [
    "----\n",
    "\n",
    "### End Of EDA\n",
    "\n",
    "----"
   ]
  }
 ],
 "metadata": {
  "kernelspec": {
   "display_name": "Python 3 (ipykernel)",
   "language": "python",
   "name": "python3"
  },
  "language_info": {
   "codemirror_mode": {
    "name": "ipython",
    "version": 3
   },
   "file_extension": ".py",
   "mimetype": "text/x-python",
   "name": "python",
   "nbconvert_exporter": "python",
   "pygments_lexer": "ipython3",
   "version": "3.11.5"
  }
 },
 "nbformat": 4,
 "nbformat_minor": 5
}
