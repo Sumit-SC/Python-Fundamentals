{
 "cells": [
  {
   "cell_type": "markdown",
   "id": "6467fd6a",
   "metadata": {},
   "source": [
    "# Visualizing IMDb Top 1000 Movies Dataset"
   ]
  },
  {
   "cell_type": "markdown",
   "id": "36e25644",
   "metadata": {},
   "source": [
    "##### Requirements step (Uncomment the below code to install missing libary if not using jupyter or anaconda installation)"
   ]
  },
  {
   "cell_type": "code",
   "execution_count": null,
   "id": "3308b29d",
   "metadata": {},
   "outputs": [],
   "source": [
    "# !pip install pandas numpy matplotlib"
   ]
  },
  {
   "cell_type": "markdown",
   "id": "6e4187ad",
   "metadata": {},
   "source": [
    "#### Import the libraries"
   ]
  },
  {
   "cell_type": "code",
   "execution_count": null,
   "id": "fa342192",
   "metadata": {},
   "outputs": [],
   "source": [
    "import pandas as pd  # data preprocessing\n",
    "import numpy as np   # mathematical computation\n",
    "import matplotlib.pyplot as plt  # visualization"
   ]
  },
  {
   "cell_type": "markdown",
   "id": "93eccab7",
   "metadata": {},
   "source": [
    "#### Read the dataset"
   ]
  },
  {
   "cell_type": "code",
   "execution_count": null,
   "id": "de3dc4d5",
   "metadata": {},
   "outputs": [],
   "source": [
    "df = pd.read_csv('../data/processed/imdb_top_1000.csv')\n",
    "print(type(df))  # df is a dataframe\n",
    "df.head(3)"
   ]
  },
  {
   "cell_type": "code",
   "execution_count": null,
   "id": "3aad19be",
   "metadata": {},
   "outputs": [],
   "source": [
    "df.shape\n",
    "# rows = 1000,columns = 16"
   ]
  },
  {
   "cell_type": "code",
   "execution_count": null,
   "id": "a2dc84a3",
   "metadata": {},
   "outputs": [],
   "source": [
    "df.columns"
   ]
  },
  {
   "cell_type": "markdown",
   "id": "76b5c4fa",
   "metadata": {},
   "source": [
    "#### Data Preprocessing"
   ]
  },
  {
   "cell_type": "markdown",
   "id": "132236bd",
   "metadata": {},
   "source": [
    "#### 1) Handle the Null Values"
   ]
  },
  {
   "cell_type": "code",
   "execution_count": null,
   "id": "cc47b2cc",
   "metadata": {},
   "outputs": [],
   "source": [
    "a = df.isnull().sum()\n",
    "print(a.index)\n",
    "print(a.values)"
   ]
  },
  {
   "cell_type": "code",
   "execution_count": null,
   "id": "c7d4c734",
   "metadata": {},
   "outputs": [],
   "source": [
    "def gen_null_count_per(data):\n",
    "    #     nv = nll value\n",
    "    nv = data.isnull().sum()\n",
    "    nv = nv[nv > 0]  # filter all columns where the data contains null values\n",
    "    nv_df = pd.DataFrame({'Feature': nv.index, 'Count': nv.values,\n",
    "                         'Percent_Null': (nv.values/df.shape[0])*100})\n",
    "    return nv_df"
   ]
  },
  {
   "cell_type": "code",
   "execution_count": null,
   "id": "6979ca7b",
   "metadata": {},
   "outputs": [],
   "source": [
    "gen_null_count_per(df)"
   ]
  },
  {
   "cell_type": "code",
   "execution_count": null,
   "id": "5f7b27ec",
   "metadata": {},
   "outputs": [],
   "source": [
    "df.dtypes"
   ]
  },
  {
   "cell_type": "code",
   "execution_count": null,
   "id": "107a58f3",
   "metadata": {},
   "outputs": [],
   "source": [
    "df['Certificate'].value_counts()"
   ]
  },
  {
   "cell_type": "code",
   "execution_count": null,
   "id": "a53c8867",
   "metadata": {},
   "outputs": [],
   "source": [
    "df['Certificate'].fillna(df['Certificate'].mode()[0], inplace=True)\n",
    "# df.head()"
   ]
  },
  {
   "cell_type": "code",
   "execution_count": null,
   "id": "46782de7",
   "metadata": {},
   "outputs": [],
   "source": [
    "gen_null_count_per(df)"
   ]
  },
  {
   "cell_type": "code",
   "execution_count": null,
   "id": "09aed527",
   "metadata": {},
   "outputs": [],
   "source": [
    "df.describe()"
   ]
  },
  {
   "cell_type": "code",
   "execution_count": null,
   "id": "d6230704",
   "metadata": {},
   "outputs": [],
   "source": [
    "df['Meta_score'].fillna(df['Meta_score'].median(), inplace=True)\n",
    "gen_null_count_per(df)"
   ]
  },
  {
   "cell_type": "code",
   "execution_count": null,
   "id": "8297506d",
   "metadata": {},
   "outputs": [],
   "source": [
    "df.dtypes"
   ]
  },
  {
   "cell_type": "code",
   "execution_count": null,
   "id": "b47e5205",
   "metadata": {},
   "outputs": [],
   "source": [
    "# Released_Year, Gross"
   ]
  },
  {
   "cell_type": "code",
   "execution_count": null,
   "id": "071d5148",
   "metadata": {},
   "outputs": [],
   "source": [
    "df['Released_Year'].unique()"
   ]
  },
  {
   "cell_type": "code",
   "execution_count": null,
   "id": "67d07dff",
   "metadata": {},
   "outputs": [],
   "source": [
    "df[df['Released_Year'] == 'PG'].shape"
   ]
  },
  {
   "cell_type": "code",
   "execution_count": null,
   "id": "0339aa2d",
   "metadata": {},
   "outputs": [],
   "source": [
    "df = df[df['Released_Year'] != 'PG']\n",
    "df.shape"
   ]
  },
  {
   "cell_type": "code",
   "execution_count": null,
   "id": "6c3c30b5",
   "metadata": {},
   "outputs": [],
   "source": [
    "df['Released_Year'] = pd.to_numeric(df['Released_Year'])\n",
    "df.dtypes"
   ]
  },
  {
   "cell_type": "code",
   "execution_count": null,
   "id": "5d0ed33b",
   "metadata": {},
   "outputs": [],
   "source": [
    "df[['Gross']].head()"
   ]
  },
  {
   "cell_type": "code",
   "execution_count": null,
   "id": "a55346b5",
   "metadata": {},
   "outputs": [],
   "source": [
    "df['Gross'] = df['Gross'].str.replace(',', '')\n",
    "df[['Gross']].head()"
   ]
  },
  {
   "cell_type": "code",
   "execution_count": null,
   "id": "20a02e4d",
   "metadata": {},
   "outputs": [],
   "source": [
    "df['Gross'] = df['Gross'].astype(int)\n",
    "df.dtypes"
   ]
  },
  {
   "cell_type": "code",
   "execution_count": null,
   "id": "84643f4e",
   "metadata": {},
   "outputs": [],
   "source": [
    "df['Gross'].fillna(df['Gross'].median(), inplace=True)\n",
    "gen_null_count_per(df)"
   ]
  },
  {
   "cell_type": "markdown",
   "id": "7ac7a02c",
   "metadata": {},
   "source": [
    "#### Separate the Continuous and Catgeorical Features"
   ]
  },
  {
   "cell_type": "code",
   "execution_count": null,
   "id": "e0268483",
   "metadata": {},
   "outputs": [],
   "source": [
    "num_cols = df.dtypes[df.dtypes != 'object'].index\n",
    "cat_cols = df.dtypes[df.dtypes == 'object'].index\n",
    "print(num_cols)\n",
    "print(cat_cols)"
   ]
  },
  {
   "cell_type": "markdown",
   "id": "c9206a13",
   "metadata": {},
   "source": [
    "#### Handle the duplicated records"
   ]
  },
  {
   "cell_type": "code",
   "execution_count": null,
   "id": "4fc9f3cd",
   "metadata": {},
   "outputs": [],
   "source": [
    "df.duplicated().sum()"
   ]
  },
  {
   "cell_type": "markdown",
   "id": "51d06d70",
   "metadata": {},
   "source": [
    "### EDA"
   ]
  },
  {
   "cell_type": "markdown",
   "id": "bbe9c719",
   "metadata": {},
   "source": [
    "#### Plot Top N most frequent genres on a bar chart in IMDB top 1000 dataset"
   ]
  },
  {
   "cell_type": "code",
   "execution_count": null,
   "id": "fcb0f141",
   "metadata": {},
   "outputs": [],
   "source": [
    "def topN_most_freq_genre(N, col):\n",
    "    s = df['Genre'].value_counts().sort_values(ascending=False).head(N)\n",
    "    plt.barh(s.index, s.values, color=col, edgecolor='black')\n",
    "    plt.title(f'Top {N} most frequent genres in IMDB dataset')\n",
    "    plt.ylabel('Genres')\n",
    "    plt.xlabel('Count')\n",
    "    plt.show()"
   ]
  },
  {
   "cell_type": "code",
   "execution_count": null,
   "id": "45f30b7c",
   "metadata": {},
   "outputs": [],
   "source": [
    "topN_most_freq_genre(7, 'maroon')"
   ]
  },
  {
   "cell_type": "markdown",
   "id": "da41a75a",
   "metadata": {},
   "source": [
    "#### 2) Plot Top 5 movies with most votes on a line chart"
   ]
  },
  {
   "cell_type": "code",
   "execution_count": null,
   "id": "ae49931f",
   "metadata": {},
   "outputs": [],
   "source": [
    "q2 = df[['Series_Title', 'No_of_Votes']].sort_values(\n",
    "    'No_of_Votes', ascending=False).head()\n",
    "q2"
   ]
  },
  {
   "cell_type": "code",
   "execution_count": null,
   "id": "1c0ed190",
   "metadata": {},
   "outputs": [],
   "source": [
    "# fig, ax = plt.subplots()\n",
    "\n",
    "# We need to draw the canvas, otherwise the labels won't be positioned and\n",
    "# won't have values yet.\n",
    "# fig.canvas.draw()\n",
    "\n",
    "# labels = [item.get_text() for item in ax.get_xticklabels()]\n",
    "# labels[1] = 'Testing'\n",
    "\n",
    "# ax.set_xticklabels([100,200,300,400,450,500])\n",
    "\n",
    "# plt.show()"
   ]
  },
  {
   "cell_type": "code",
   "execution_count": null,
   "id": "8aa68485",
   "metadata": {},
   "outputs": [],
   "source": [
    "# a = 2.3e6\n",
    "# print(a)\n",
    "# 2300k"
   ]
  },
  {
   "cell_type": "code",
   "execution_count": null,
   "id": "a0e2804f",
   "metadata": {},
   "outputs": [],
   "source": [
    "fig, ax = plt.subplots()\n",
    "\n",
    "ax.plot(q2['Series_Title'], q2['No_of_Votes'], color='tan',\n",
    "        marker='o', mfc='maroon', lw=3, markersize=7)\n",
    "ax.set_title(f'Top 5 most frequent movies with highest number of votes')\n",
    "ax.set_xlabel('Series Name')\n",
    "ax.set_ylabel('Number of Votes')\n",
    "ax.set_xticklabels(['Shawshank_Red.', 'Dark Knight',\n",
    "                   'Inception', 'Fight Club', 'Pulp Fiction'])\n",
    "ax.set_yticklabels(['0', '1900K', '2000K', '2100K', '2200K', '2300K', '2400K'])\n",
    "\n",
    "# plt.grid()\n",
    "plt.show()"
   ]
  },
  {
   "cell_type": "markdown",
   "id": "6266c1d8",
   "metadata": {},
   "source": [
    "#### 3) Visualize the relationship between the number of votes and Gross revenue"
   ]
  },
  {
   "cell_type": "code",
   "execution_count": null,
   "id": "fa756119",
   "metadata": {},
   "outputs": [],
   "source": [
    "plt.scatter(df['No_of_Votes'], df['Gross'])\n",
    "plt.title('Num_of_Votes vs Gross Revenue')\n",
    "plt.xlabel('No_of Votes')\n",
    "plt.ylabel('Gross Revenue')\n",
    "plt.show()"
   ]
  },
  {
   "cell_type": "code",
   "execution_count": null,
   "id": "61842d3e",
   "metadata": {},
   "outputs": [],
   "source": [
    "df[['Runtime']].head()"
   ]
  },
  {
   "cell_type": "code",
   "execution_count": null,
   "id": "d87dde00",
   "metadata": {},
   "outputs": [],
   "source": [
    "df['Runtime1'] = df['Runtime'].str.replace(' min', '')\n",
    "df['Runtime1'] = pd.to_numeric(df['Runtime1'])\n",
    "df.dtypes"
   ]
  },
  {
   "cell_type": "code",
   "execution_count": null,
   "id": "4728df0d",
   "metadata": {},
   "outputs": [],
   "source": [
    "df['Runtime(hr)'] = round(df['Runtime1']/60, 2)\n",
    "df.head()"
   ]
  },
  {
   "cell_type": "markdown",
   "id": "3df28b10",
   "metadata": {},
   "source": [
    "#### 5) For the top 3 Genres, Depict top N directors for each Genre with highest Gross Revenue on bar chart "
   ]
  },
  {
   "cell_type": "code",
   "execution_count": null,
   "id": "914cb24e",
   "metadata": {},
   "outputs": [],
   "source": [
    "df['Genre'].value_counts()\n",
    "w = df[df['Genre'].isin(['Drama', 'Drama, Romance', 'Comedy, Drama'])]\n",
    "w.shape"
   ]
  },
  {
   "cell_type": "code",
   "execution_count": null,
   "id": "fbfce9b3",
   "metadata": {},
   "outputs": [],
   "source": [
    "x = w[w['Genre'] == 'Drama']\n",
    "x1 = x[['Director', 'Gross']].sort_values('Gross', ascending=False).head()\n",
    "x1"
   ]
  },
  {
   "cell_type": "code",
   "execution_count": null,
   "id": "4cc1790a",
   "metadata": {},
   "outputs": [],
   "source": [
    "def topN_directors_with_highest_Gross(N):\n",
    "    w1 = w[w['Genre'] == 'Drama']\n",
    "    w1res = w1[['Director', 'Gross']].sort_values(\n",
    "        'Gross', ascending=False).head(N)\n",
    "    w2 = w[w['Genre'] == 'Drama, Romance']\n",
    "    w2res = w2[['Director', 'Gross']].sort_values(\n",
    "        'Gross', ascending=False).head(N)\n",
    "    w3 = w[w['Genre'] == 'Comedy, Drama']\n",
    "    w3res = w3[['Director', 'Gross']].sort_values(\n",
    "        'Gross', ascending=False).head(N)\n",
    "    fig, (ax1, ax2, ax3) = plt.subplots(3, 1, figsize=(6, 15))\n",
    "\n",
    "    ax1.bar(w1res['Director'], w1res['Gross'],\n",
    "            color='orange', edgecolor='black')\n",
    "    ax1.set_title(f'Top {N} directors with highest Gross Rev in Drama Genre')\n",
    "\n",
    "    ax2.bar(w2res['Director'], w2res['Gross'],\n",
    "            color='lightgreen', edgecolor='black')\n",
    "    ax2.set_title(\n",
    "        f'Top {N} directors with highest Gross Rev in Drama, Romance Genre')\n",
    "\n",
    "    ax3.bar(w3res['Director'], w3res['Gross'], color='blue', edgecolor='black')\n",
    "    ax3.set_title(\n",
    "        f'Top {N} directors with highest Gross Rev in Comedy, Drama Genre')\n",
    "\n",
    "    plt.show()"
   ]
  },
  {
   "cell_type": "code",
   "execution_count": null,
   "id": "41137acc",
   "metadata": {},
   "outputs": [],
   "source": [
    "topN_directors_with_highest_Gross(4)"
   ]
  },
  {
   "cell_type": "code",
   "execution_count": null,
   "id": "932ceb9a",
   "metadata": {},
   "outputs": [],
   "source": [
    "for i in ['Drama', 'Drama, Romance', 'Comedy, Drama']:\n",
    "    x = df[df['Genre'] == i]\n",
    "    x1 = x[['Director', 'Gross']].sort_values('Gross', ascending=False).head(4)\n",
    "    print(x1)"
   ]
  },
  {
   "cell_type": "code",
   "execution_count": null,
   "id": "c2a604c0",
   "metadata": {},
   "outputs": [],
   "source": [
    "num_cols"
   ]
  },
  {
   "cell_type": "code",
   "execution_count": null,
   "id": "e4e2843a",
   "metadata": {},
   "outputs": [],
   "source": [
    "plt.subplot(1, 3, 1)\n",
    "plt.boxplot(x=df['Released_Year'])\n",
    "\n",
    "plt.subplot(1, 3, 2)\n",
    "plt.boxplot(x=df['IMDB_Rating'])\n",
    "\n",
    "plt.subplot(1, 3, 3)\n",
    "plt.boxplot(x=df['Meta_score'])\n",
    "\n",
    "plt.show()"
   ]
  },
  {
   "cell_type": "markdown",
   "id": "e7d30343",
   "metadata": {},
   "source": [
    "#### Depict boxplot for each numerical feature"
   ]
  },
  {
   "cell_type": "code",
   "execution_count": null,
   "id": "ce81aa16",
   "metadata": {},
   "outputs": [],
   "source": [
    "plt.figure(figsize=(10, 8))\n",
    "for i in range(len(num_cols)):\n",
    "    plt.subplot(2, 3, i+1)\n",
    "    plt.boxplot(x=df[num_cols[i]])\n",
    "    plt.title(f'Boxplot for {num_cols[i]}')\n",
    "plt.show()"
   ]
  }
 ],
 "metadata": {
  "kernelspec": {
   "display_name": "Python 3 (ipykernel)",
   "language": "python",
   "name": "python3"
  },
  "language_info": {
   "codemirror_mode": {
    "name": "ipython",
    "version": 3
   },
   "file_extension": ".py",
   "mimetype": "text/x-python",
   "name": "python",
   "nbconvert_exporter": "python",
   "pygments_lexer": "ipython3",
   "version": "3.9.13"
  }
 },
 "nbformat": 4,
 "nbformat_minor": 5
}
