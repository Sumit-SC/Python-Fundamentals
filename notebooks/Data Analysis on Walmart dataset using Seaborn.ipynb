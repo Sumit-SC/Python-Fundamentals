{
 "cells": [
  {
   "cell_type": "markdown",
   "id": "52161604",
   "metadata": {},
   "source": [
    "# Data Analysis On Walmart Dataset"
   ]
  },
  {
   "cell_type": "markdown",
   "id": "445d0d65",
   "metadata": {},
   "source": [
    "##### Requirements step (Uncomment the below code to install missing libary if not using jupyter or anaconda installation)"
   ]
  },
  {
   "cell_type": "code",
   "execution_count": null,
   "id": "f174ac62",
   "metadata": {},
   "outputs": [],
   "source": [
    "# !pip install numpy pandas matplotlib seaborn"
   ]
  },
  {
   "cell_type": "markdown",
   "id": "b5e88ed9",
   "metadata": {},
   "source": [
    "#### Import the libraries"
   ]
  },
  {
   "cell_type": "code",
   "execution_count": null,
   "id": "85cd8576",
   "metadata": {},
   "outputs": [],
   "source": [
    "import pandas as pd    # data preprocessing\n",
    "import numpy as np     # mathematical computation\n",
    "import matplotlib.pyplot as plt  # visualization\n",
    "import seaborn as sns  # visualization"
   ]
  },
  {
   "cell_type": "code",
   "execution_count": null,
   "id": "73c2e77f",
   "metadata": {},
   "outputs": [],
   "source": [
    "import warnings\n",
    "warnings.filterwarnings('ignore')"
   ]
  },
  {
   "cell_type": "markdown",
   "id": "c86e55da",
   "metadata": {},
   "source": [
    "#### Read the dataset"
   ]
  },
  {
   "cell_type": "code",
   "execution_count": null,
   "id": "9a75ae54",
   "metadata": {},
   "outputs": [],
   "source": [
    "df = pd.read_csv('Walmart.csv')\n",
    "print(type(df))  # dataframe\n",
    "df.head()        # top 5 rows"
   ]
  },
  {
   "cell_type": "markdown",
   "id": "e0c70fcb",
   "metadata": {},
   "source": [
    "##### Feature Description\n",
    "\n",
    "Store - Store num\n",
    "\n",
    "Date - date of sales\n",
    "\n",
    "Weekly Sales - Weekly sales\n",
    "\n",
    "Holiday flag  - 0(non holiday), 1(holiday)\n",
    "\n",
    "temp - temp on day os sales\n",
    "\n",
    "fuel_price - Cost of fuel in th region\n",
    "\n",
    "CPI - Consumer Price Index\n",
    "\n",
    "Unemployment - unemployment rate"
   ]
  },
  {
   "cell_type": "code",
   "execution_count": null,
   "id": "2ec20b71",
   "metadata": {},
   "outputs": [],
   "source": [
    "df.shape\n",
    "# rows = 6435, columns = 8"
   ]
  },
  {
   "cell_type": "markdown",
   "id": "df3ea231",
   "metadata": {},
   "source": [
    "### Data Preporcessing"
   ]
  },
  {
   "cell_type": "markdown",
   "id": "e5b51fcd",
   "metadata": {},
   "source": [
    "#### 1) Handling Null Values"
   ]
  },
  {
   "cell_type": "code",
   "execution_count": null,
   "id": "07f50c8d",
   "metadata": {},
   "outputs": [],
   "source": [
    "df.isnull().sum()"
   ]
  },
  {
   "cell_type": "markdown",
   "id": "c9ffde10",
   "metadata": {},
   "source": [
    "#### 2) Handle the duplicates"
   ]
  },
  {
   "cell_type": "code",
   "execution_count": null,
   "id": "71a117eb",
   "metadata": {},
   "outputs": [],
   "source": [
    "df.duplicated().sum()"
   ]
  },
  {
   "cell_type": "markdown",
   "id": "5e7a7d74",
   "metadata": {},
   "source": [
    "#### Inference\n",
    "1) There are no duplicated records<br>\n",
    "2) Data contains no null values"
   ]
  },
  {
   "cell_type": "markdown",
   "id": "ad24ae7c",
   "metadata": {},
   "source": [
    "#### 3) Check data types"
   ]
  },
  {
   "cell_type": "code",
   "execution_count": null,
   "id": "b917cfcc",
   "metadata": {},
   "outputs": [],
   "source": [
    "df.dtypes"
   ]
  },
  {
   "cell_type": "code",
   "execution_count": null,
   "id": "f0fc21aa",
   "metadata": {},
   "outputs": [],
   "source": [
    "df['Date'] = pd.to_datetime(df['Date'])\n",
    "df.dtypes"
   ]
  },
  {
   "cell_type": "markdown",
   "id": "d921d126",
   "metadata": {},
   "source": [
    "#### Extract Year, Quarter, Month, Month_Name, Day, Day_Name from Date field"
   ]
  },
  {
   "cell_type": "code",
   "execution_count": null,
   "id": "1dadbb75",
   "metadata": {},
   "outputs": [],
   "source": [
    "df1 = df.copy()"
   ]
  },
  {
   "cell_type": "code",
   "execution_count": null,
   "id": "8d8ab95a",
   "metadata": {},
   "outputs": [],
   "source": [
    "# dt = datetime accessor\n",
    "df['Year'] = df['Date'].dt.year\n",
    "df['Quarter'] = df['Date'].dt.quarter\n",
    "df['Month'] = df['Date'].dt.month\n",
    "df['MonthName'] = df['Date'].dt.month_name()\n",
    "df['Day'] = df['Date'].dt.day\n",
    "df['DayName'] = df['Date'].dt.day_name()"
   ]
  },
  {
   "cell_type": "code",
   "execution_count": null,
   "id": "c445359a",
   "metadata": {},
   "outputs": [],
   "source": [
    "df.head()"
   ]
  },
  {
   "cell_type": "code",
   "execution_count": null,
   "id": "98bb0b46",
   "metadata": {},
   "outputs": [],
   "source": [
    "df.dtypes.value_counts()"
   ]
  },
  {
   "cell_type": "markdown",
   "id": "913d1c3e",
   "metadata": {},
   "source": [
    "### Seaborn EDA"
   ]
  },
  {
   "cell_type": "markdown",
   "id": "0cb11d8c",
   "metadata": {},
   "source": [
    "#### 1) Countplot\n",
    "Counts the different categoires of a field and represents them on bar chart."
   ]
  },
  {
   "cell_type": "markdown",
   "id": "9c9298dc",
   "metadata": {},
   "source": [
    "#### a) Depict Count of Holiday flag on a bar chart"
   ]
  },
  {
   "cell_type": "code",
   "execution_count": null,
   "id": "d356fcbd",
   "metadata": {},
   "outputs": [],
   "source": [
    "a = df['Holiday_Flag'].value_counts()\n",
    "a"
   ]
  },
  {
   "cell_type": "code",
   "execution_count": null,
   "id": "5e73c722",
   "metadata": {},
   "outputs": [],
   "source": [
    "plt.bar(a.index, a.values)\n",
    "plt.show()"
   ]
  },
  {
   "cell_type": "code",
   "execution_count": null,
   "id": "1f7e2784",
   "metadata": {},
   "outputs": [],
   "source": [
    "sns.countplot(x=df['Holiday_Flag'], palette=['Red', 'Green'])\n",
    "plt.title('Holiday Flag Count')\n",
    "plt.show()"
   ]
  },
  {
   "cell_type": "markdown",
   "id": "a79cd612",
   "metadata": {},
   "source": [
    "#### Countplot for Year"
   ]
  },
  {
   "cell_type": "code",
   "execution_count": null,
   "id": "62ad9453",
   "metadata": {},
   "outputs": [],
   "source": [
    "sns.countplot(y=df['Year'])\n",
    "plt.show()"
   ]
  },
  {
   "cell_type": "markdown",
   "id": "bbd17cba",
   "metadata": {},
   "source": [
    "#### Countplot for Year for each Holiday Flag"
   ]
  },
  {
   "cell_type": "code",
   "execution_count": null,
   "id": "07f394a0",
   "metadata": {},
   "outputs": [],
   "source": [
    "a2 = df.groupby(['Year', 'Holiday_Flag'])['Year'].count()\n",
    "a2"
   ]
  },
  {
   "cell_type": "code",
   "execution_count": null,
   "id": "fb157b19",
   "metadata": {},
   "outputs": [],
   "source": [
    "df['Year'].value_counts()"
   ]
  },
  {
   "cell_type": "code",
   "execution_count": null,
   "id": "e516a190",
   "metadata": {},
   "outputs": [],
   "source": [
    "sns.countplot(df['Year'], hue=df['Holiday_Flag'])  # clustered bar chart\n",
    "# Hue parameter is used for grouping\n",
    "plt.show()"
   ]
  },
  {
   "cell_type": "code",
   "execution_count": null,
   "id": "86abc6eb",
   "metadata": {},
   "outputs": [],
   "source": [
    "# 2010  0               1980\n",
    "#       1                180\n",
    "# 2011  0               2160\n",
    "#       1                180\n",
    "# 2012  0               1845\n",
    "#       1                 90"
   ]
  },
  {
   "cell_type": "markdown",
   "id": "46c22816",
   "metadata": {},
   "source": [
    "### Boxplot"
   ]
  },
  {
   "cell_type": "code",
   "execution_count": null,
   "id": "650c55fe",
   "metadata": {},
   "outputs": [],
   "source": [
    "num_cols = df.dtypes[df.dtypes != 'object'].index\n",
    "num_cols"
   ]
  },
  {
   "cell_type": "code",
   "execution_count": null,
   "id": "1d3eca9f",
   "metadata": {},
   "outputs": [],
   "source": [
    "cols1 = ['Weekly_Sales', 'Temperature', 'Fuel_Price', 'CPI', 'Unemployment']\n",
    "\n",
    "plt.figure(figsize=(15, 11))   # width = 15, height = 11\n",
    "for i in range(len(cols1)):\n",
    "    plt.subplot(2, 3, i+1)                # rows = 2,cols=3,\n",
    "    sns.boxplot(x=df[cols1[i]])         # represent the quartile distribution\n",
    "    plt.title(f'Countplot for {cols1[i]}')\n",
    "plt.show()"
   ]
  },
  {
   "cell_type": "markdown",
   "id": "45824810",
   "metadata": {},
   "source": [
    "### Violin Plot\n",
    "Combination of Boxplot and KDEplot (Kernel Density Plot)"
   ]
  },
  {
   "cell_type": "code",
   "execution_count": null,
   "id": "b0072ff5",
   "metadata": {},
   "outputs": [],
   "source": [
    "cols1 = ['Weekly_Sales', 'Temperature', 'Fuel_Price', 'CPI', 'Unemployment']\n",
    "\n",
    "plt.figure(figsize=(15, 11))   # width = 15, height = 11\n",
    "for i in range(len(cols1)):\n",
    "    plt.subplot(2, 3, i+1)                # rows = 2,cols=3,\n",
    "    # represent the quartile distribution\n",
    "    sns.violinplot(x=df[cols1[i]])\n",
    "    plt.title(f'Countplot for {cols1[i]}')\n",
    "plt.show()"
   ]
  },
  {
   "cell_type": "markdown",
   "id": "ff91ac67",
   "metadata": {},
   "source": [
    "### Scatter Chart\n",
    "To represent the correlation amongst the variables "
   ]
  },
  {
   "cell_type": "code",
   "execution_count": null,
   "id": "5d9cc68e",
   "metadata": {},
   "outputs": [],
   "source": [
    "num_cols"
   ]
  },
  {
   "cell_type": "code",
   "execution_count": null,
   "id": "a02dcd52",
   "metadata": {},
   "outputs": [],
   "source": [
    "plt.figure(figsize=(10, 10))\n",
    "sns.scatterplot(x=df['Temperature'], y=df['Fuel_Price'],\n",
    "                hue=df['Holiday_Flag'])\n",
    "plt.show()"
   ]
  },
  {
   "cell_type": "markdown",
   "id": "ddc47c63",
   "metadata": {},
   "source": [
    "### Jointplot\n",
    "It is a combination of ScatterChart + Histogram."
   ]
  },
  {
   "cell_type": "code",
   "execution_count": null,
   "id": "0f643c6f",
   "metadata": {},
   "outputs": [],
   "source": [
    "plt.figure(figsize=(10, 10))\n",
    "# kind = 'scatter','hex','kde'\n",
    "sns.jointplot(x=df['CPI'], y=df['Fuel_Price'], kind='hex', color='maroon')\n",
    "# OR\n",
    "sns.jointplot(x='CPI', y='Fuel_Price', data=df, kind='hex', color='maroon')\n",
    "# ,hue=df['Holiday_Flag'])\n",
    "plt.show()"
   ]
  },
  {
   "cell_type": "code",
   "execution_count": null,
   "id": "6599425b",
   "metadata": {},
   "outputs": [],
   "source": [
    "df.columns"
   ]
  },
  {
   "cell_type": "markdown",
   "id": "8cb73210",
   "metadata": {},
   "source": [
    "##### Q1) Problem:Create a Seaborn scatter plot to visualize the relationship between \"Temperature\" and \"Weekly_Sales\" for store \n",
    "1. Add appropriate labels and a title to the plot."
   ]
  },
  {
   "cell_type": "code",
   "execution_count": null,
   "id": "3d32129c",
   "metadata": {},
   "outputs": [],
   "source": [
    "s1 = df[df['Store'] == 1]\n",
    "print(s1.shape)"
   ]
  },
  {
   "cell_type": "code",
   "execution_count": null,
   "id": "72e6f2c8",
   "metadata": {},
   "outputs": [],
   "source": [
    "sns.scatterplot(x=df['Temperature'], y=df['Weekly_Sales'],)\n",
    "plt.title('Temp vs Weekly Sales')\n",
    "plt.show()"
   ]
  },
  {
   "cell_type": "markdown",
   "id": "34e967ef",
   "metadata": {},
   "source": [
    "##### Q2) Problem:Generate a Seaborn box plot to visualize the distribution of \"Weekly_Sales\" for holidays(Holiday_Flag = 1) and non-holidays (Holiday_Flag = 0) across all stores. Add appropriate labels and a title to the plot."
   ]
  },
  {
   "cell_type": "code",
   "execution_count": null,
   "id": "6f7df812",
   "metadata": {},
   "outputs": [],
   "source": [
    "sns.boxplot(x=df['Holiday_Flag'], y=df['Weekly_Sales'])\n",
    "plt.title('Boxplot for Weekly Sales based on Holidy_Flag')\n",
    "plt.show()"
   ]
  },
  {
   "cell_type": "markdown",
   "id": "4425ce02",
   "metadata": {},
   "source": [
    "##### Q3) Problem:Visualize the distribution of \"Fuel_Price\"\n",
    "using a Seaborn histogram for store 2. Set the number of bins to\n",
    "20. Add labels and a title to the plot."
   ]
  },
  {
   "cell_type": "code",
   "execution_count": null,
   "id": "c559441a",
   "metadata": {},
   "outputs": [],
   "source": [
    "sns.histplot(df['Fuel_Price'], bins=20)\n",
    "plt.title(f'Distribution of Fuel Price based on 20 bins')\n",
    "plt.show()"
   ]
  },
  {
   "cell_type": "markdown",
   "id": "58006b03",
   "metadata": {},
   "source": [
    "##### Q4) Problem:Generate a Seaborn line plot to visualize the trend of \"CPI\" over time for store \n",
    "3. Set the x-axis as the \"Date\" and the y-axis as \"CPI.\" Add appropriate labels and a title"
   ]
  },
  {
   "cell_type": "code",
   "execution_count": null,
   "id": "9730cf28",
   "metadata": {},
   "outputs": [],
   "source": [
    "df.columns"
   ]
  },
  {
   "cell_type": "code",
   "execution_count": null,
   "id": "27dbf95f",
   "metadata": {},
   "outputs": [],
   "source": [
    "s3 = df[df['Store'] == 3]\n",
    "print(s3.shape)"
   ]
  },
  {
   "cell_type": "code",
   "execution_count": null,
   "id": "1710e129",
   "metadata": {},
   "outputs": [],
   "source": [
    "plt.figure(figsize=(12, 5))\n",
    "sns.lineplot(x=s3['Date'], y=s3['CPI'])\n",
    "plt.title('Date vs CPI for Store 3')\n",
    "plt.show()"
   ]
  },
  {
   "cell_type": "markdown",
   "id": "baed4a35",
   "metadata": {},
   "source": [
    "##### Q4) Problem:Create a Seaborn bar plot to visualize the total sales (\"Weekly_Sales\") for each store. Sort the stores in descending order of total sales. Add appropriate labels and a title to the plot. "
   ]
  },
  {
   "cell_type": "code",
   "execution_count": null,
   "id": "a55895a7",
   "metadata": {},
   "outputs": [],
   "source": [
    "df['Store'].value_counts()"
   ]
  },
  {
   "cell_type": "code",
   "execution_count": null,
   "id": "5cd13aea",
   "metadata": {},
   "outputs": [],
   "source": [
    "sns.barplot(x=df['Store'], y=df['Weekly_Sales'])   # Store wise mean Sales\n",
    "plt.title('Store wsie Total Sales')\n",
    "plt.show()"
   ]
  },
  {
   "cell_type": "code",
   "execution_count": null,
   "id": "decd2c43",
   "metadata": {},
   "outputs": [],
   "source": [
    "q5 = df.groupby('Store')['Weekly_Sales'].sum()\n",
    "q5"
   ]
  },
  {
   "cell_type": "code",
   "execution_count": null,
   "id": "9b5a3500",
   "metadata": {},
   "outputs": [],
   "source": [
    "plt.figure(figsize=(15, 6))\n",
    "sns.barplot(x=q5.index, y=q5.values,\n",
    "            order=q5.sort_values(ascending=False).index)\n",
    "plt.title('Store wise Total Weekly Sales(Sum of Weekly Sales) in desc order of Total Weekly Sales')\n",
    "plt.show()"
   ]
  },
  {
   "cell_type": "markdown",
   "id": "43a54593",
   "metadata": {},
   "source": [
    "##### Q6) Problem:Generate a Seaborn pair plot to visualize pairwise relationships between \"Temperature,\" \"Fuel_Price,\" \"Unemployment,\"and \"CPI\" for store 5. Use different colors for data points with and without holiday flags (Holiday_Flag = 1 and 0). Add a title to the plot."
   ]
  },
  {
   "cell_type": "code",
   "execution_count": null,
   "id": "f8f10086",
   "metadata": {},
   "outputs": [],
   "source": [
    "s5 = df[df['Store'] == 5]\n",
    "print(s5.shape)"
   ]
  },
  {
   "cell_type": "code",
   "execution_count": null,
   "id": "5615bd18",
   "metadata": {},
   "outputs": [],
   "source": [
    "sns.pairplot(data=s5, vars=['Temperature', 'Fuel_Price', 'Unemployment', 'CPI'],\n",
    "             hue='Holiday_Flag')\n",
    "plt.show()"
   ]
  },
  {
   "cell_type": "markdown",
   "id": "f34ddd6f",
   "metadata": {},
   "source": [
    "#### HeatMap\n",
    "1) It is used to represent correlation (not scatterchart but the magnidtue).\n"
   ]
  },
  {
   "cell_type": "code",
   "execution_count": null,
   "id": "2065ea51",
   "metadata": {},
   "outputs": [],
   "source": [
    "corr = df.corr()\n",
    "corr"
   ]
  },
  {
   "cell_type": "code",
   "execution_count": null,
   "id": "76b01c3e",
   "metadata": {},
   "outputs": [],
   "source": [
    "# corr(x,y) = sum((xi-xmean)*(yi-ymean))/sqrt((sum((xi-xmean)**2) + sum((yi-ymean)**2)))"
   ]
  },
  {
   "cell_type": "code",
   "execution_count": null,
   "id": "a3bb6cf4",
   "metadata": {},
   "outputs": [],
   "source": [
    "plt.figure(figsize=(20, 20))\n",
    "sns.heatmap(corr, annot=True, cmap='coolwarm')  # annot-Annotation\n",
    "plt.show()"
   ]
  },
  {
   "cell_type": "code",
   "execution_count": null,
   "id": "d892a409",
   "metadata": {},
   "outputs": [],
   "source": [
    "x = [1, 4, 7, 12, 17]\n",
    "y = [3, 6, 13, 26, 21]\n",
    "np.corrcoef(x, y)\n",
    "\n",
    "# [corr(x,x)  corr(x,y)]\n",
    "# [corr(y,x)  corr(y,y)]"
   ]
  },
  {
   "cell_type": "markdown",
   "id": "1ec75152",
   "metadata": {},
   "source": [
    "### Stripplot\n",
    "Distribution of data points for a given category."
   ]
  },
  {
   "cell_type": "code",
   "execution_count": null,
   "id": "3f6133c4",
   "metadata": {},
   "outputs": [],
   "source": [
    "df.columns"
   ]
  },
  {
   "cell_type": "code",
   "execution_count": null,
   "id": "08395979",
   "metadata": {},
   "outputs": [],
   "source": [
    "plt.figure(figsize=(12, 10))\n",
    "sns.stripplot(x=df['Year'], y=df['Weekly_Sales'],\n",
    "              palette=['red', 'yellow', 'brown'])\n",
    "plt.title('Stripplot for Year vs Weekly Sales')\n",
    "plt.show()"
   ]
  },
  {
   "cell_type": "code",
   "execution_count": null,
   "id": "3ba1a832",
   "metadata": {},
   "outputs": [],
   "source": [
    "plt.figure(figsize=(12, 10))\n",
    "sns.swarmplot(x=df['Year'], y=df['Weekly_Sales'])\n",
    "plt.title('Swarmplot for Year vs Weekly Sales')\n",
    "plt.show()"
   ]
  },
  {
   "cell_type": "markdown",
   "id": "bf5d1b63",
   "metadata": {},
   "source": [
    "#### Distplot, KdePlot, Histplot"
   ]
  },
  {
   "cell_type": "code",
   "execution_count": null,
   "id": "88d8e9b8",
   "metadata": {},
   "outputs": [],
   "source": [
    "sns.distplot(s1['Weekly_Sales'], kde=False)  # kde = kernel density estimate\n",
    "plt.show()"
   ]
  },
  {
   "cell_type": "code",
   "execution_count": null,
   "id": "63c5964b",
   "metadata": {},
   "outputs": [],
   "source": [
    "sns.kdeplot(s1['Weekly_Sales'])  # kde = kernel density estimate\n",
    "plt.show()"
   ]
  },
  {
   "cell_type": "code",
   "execution_count": null,
   "id": "f5407368",
   "metadata": {},
   "outputs": [],
   "source": [
    "sns.histplot(s1['Weekly_Sales'], kde=True)  # kde = kernel density estimate\n",
    "plt.show()"
   ]
  },
  {
   "cell_type": "markdown",
   "id": "cff4e224",
   "metadata": {},
   "source": [
    "### Pairplot\n",
    "\n",
    "1) It represents the scatterchart for all pairs of numerical features (by default).<br>\n",
    "2) It repensents the correlation.<br>\n",
    "3) Pairplot is represented in form of square matrix. Where the primary diagonal charts are \n",
    "usually the histogram (for the same feature on both x and y axis)"
   ]
  },
  {
   "cell_type": "code",
   "execution_count": null,
   "id": "cefb4ad1",
   "metadata": {},
   "outputs": [],
   "source": [
    "print(s1.shape)\n",
    "print(s1.columns)"
   ]
  },
  {
   "cell_type": "code",
   "execution_count": null,
   "id": "8d8453c1",
   "metadata": {},
   "outputs": [],
   "source": [
    "sns.histplot(s1['Weekly_Sales'], kde=True)  # kde = kernel density estimate\n",
    "sns.despine(right=False, left=True, top=False, bottom=True)\n",
    "plt.show()"
   ]
  },
  {
   "cell_type": "code",
   "execution_count": null,
   "id": "4da5a428",
   "metadata": {},
   "outputs": [],
   "source": [
    "sns.barplot(s1['Quarter'], s1['Weekly_Sales'])\n",
    "sns.despine(right=False, top=True, bottom=False)\n",
    "plt.show()"
   ]
  },
  {
   "cell_type": "markdown",
   "id": "6a70d301",
   "metadata": {},
   "source": [
    "-----\n",
    "##### Different Types of Plots in Seaborn used in these EDA\n",
    "\n",
    "1. countplot\n",
    "2. boxplot\n",
    "3. violinplot\n",
    "4. jointplot\n",
    "5. scatter chart\n",
    "6. pairplot\n",
    "7. heatmap\n",
    "8. lineplot\n",
    "9. barplot\n",
    "10. Stripplot\n",
    "11. swarmplot\n",
    "12. Pairplot\n",
    "13. kdeplot\n",
    "14. histplot\n",
    "15. distplot"
   ]
  },
  {
   "cell_type": "markdown",
   "id": "88976057",
   "metadata": {},
   "source": [
    "----\n",
    "\n",
    "### End Of Walmart dataset EDA\n",
    "\n",
    "----"
   ]
  }
 ],
 "metadata": {
  "kernelspec": {
   "display_name": "Python 3 (ipykernel)",
   "language": "python",
   "name": "python3"
  },
  "language_info": {
   "codemirror_mode": {
    "name": "ipython",
    "version": 3
   },
   "file_extension": ".py",
   "mimetype": "text/x-python",
   "name": "python",
   "nbconvert_exporter": "python",
   "pygments_lexer": "ipython3",
   "version": "3.9.13"
  }
 },
 "nbformat": 4,
 "nbformat_minor": 5
}
