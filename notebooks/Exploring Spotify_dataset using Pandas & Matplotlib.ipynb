{
 "cells": [
  {
   "cell_type": "markdown",
   "id": "935e7af2",
   "metadata": {},
   "source": [
    "# Exploring Sample Spotify Dataset to get Insights using Pandas & Matplotlib"
   ]
  },
  {
   "cell_type": "markdown",
   "id": "c0203140",
   "metadata": {},
   "source": [
    "##### Requirements step (Uncomment the below code to install missing libary if not using jupyter or anaconda installation)"
   ]
  },
  {
   "cell_type": "code",
   "execution_count": null,
   "id": "62643360",
   "metadata": {},
   "outputs": [],
   "source": [
    "# !pip install pandas numpy matplotlib"
   ]
  },
  {
   "cell_type": "markdown",
   "id": "51dff6a1",
   "metadata": {},
   "source": [
    "#### Import the libraries"
   ]
  },
  {
   "cell_type": "code",
   "execution_count": null,
   "id": "85b9322a",
   "metadata": {},
   "outputs": [],
   "source": [
    "import pandas as pd  # Data Preprocessing\n",
    "import numpy as np   # Mathematical Computation\n",
    "import matplotlib.pyplot as plt  # Vizualization"
   ]
  },
  {
   "cell_type": "markdown",
   "id": "dd4df8cc",
   "metadata": {},
   "source": [
    "#### Read the dataset"
   ]
  },
  {
   "cell_type": "code",
   "execution_count": null,
   "id": "6ba4587e",
   "metadata": {},
   "outputs": [],
   "source": [
    "df = pd.read_csv('../data/processed/Spotify Top 100 most Streamed.csv')\n",
    "# df is a Dataframe\n",
    "df.head()  # top 5 rows"
   ]
  },
  {
   "cell_type": "code",
   "execution_count": null,
   "id": "54a16c77",
   "metadata": {},
   "outputs": [],
   "source": [
    "df.shape\n",
    "# rows = 100, columns = 14"
   ]
  },
  {
   "cell_type": "markdown",
   "id": "b132057c",
   "metadata": {},
   "source": [
    "### Data Preprocessing"
   ]
  },
  {
   "cell_type": "markdown",
   "id": "23d328ae",
   "metadata": {},
   "source": [
    "#### 1) Handle the Null Values"
   ]
  },
  {
   "cell_type": "code",
   "execution_count": null,
   "id": "00d8c6cc",
   "metadata": {},
   "outputs": [],
   "source": [
    "df.isnull().sum()"
   ]
  },
  {
   "cell_type": "markdown",
   "id": "0fb349ce",
   "metadata": {},
   "source": [
    "#### Inference\n",
    "Data does not conatin any null value"
   ]
  },
  {
   "cell_type": "markdown",
   "id": "10d68cab",
   "metadata": {},
   "source": [
    "#### 2) Handle Duplicates"
   ]
  },
  {
   "cell_type": "code",
   "execution_count": null,
   "id": "40bd151c",
   "metadata": {},
   "outputs": [],
   "source": [
    "df.duplicated().sum()"
   ]
  },
  {
   "cell_type": "markdown",
   "id": "cc2538d6",
   "metadata": {},
   "source": [
    "#### Inference\n",
    "Data does not conatin any duplicated records"
   ]
  },
  {
   "cell_type": "markdown",
   "id": "93b2b3d7",
   "metadata": {},
   "source": [
    "#### 3) Check data types"
   ]
  },
  {
   "cell_type": "code",
   "execution_count": null,
   "id": "f0ad67ed",
   "metadata": {},
   "outputs": [],
   "source": [
    "col = df.columns\n",
    "print(col)"
   ]
  },
  {
   "cell_type": "code",
   "execution_count": null,
   "id": "37411ee9",
   "metadata": {},
   "outputs": [],
   "source": [
    "df.dtypes"
   ]
  },
  {
   "cell_type": "markdown",
   "id": "82587ddb",
   "metadata": {},
   "source": [
    "#### Data Analysis using Pandas"
   ]
  },
  {
   "cell_type": "markdown",
   "id": "5c9e6cc5",
   "metadata": {},
   "source": [
    "#### 1) Top N Artists with most songs in top 100 spotify songs"
   ]
  },
  {
   "cell_type": "code",
   "execution_count": null,
   "id": "1baa1906",
   "metadata": {},
   "outputs": [],
   "source": [
    "def topN_feat_with_most_songs(feat, N):\n",
    "    res = df[feat].value_counts().head(N)\n",
    "    return res"
   ]
  },
  {
   "cell_type": "code",
   "execution_count": null,
   "id": "e0e4ecf8",
   "metadata": {},
   "outputs": [],
   "source": [
    "# def topN_Artists_with_most_songs(N):\n",
    "#     res = df['artist'].value_counts().head(N)\n",
    "#     return res"
   ]
  },
  {
   "cell_type": "code",
   "execution_count": null,
   "id": "071f0f4f",
   "metadata": {},
   "outputs": [],
   "source": [
    "topN_feat_with_most_songs('artist', 15)"
   ]
  },
  {
   "cell_type": "markdown",
   "id": "d412c6b1",
   "metadata": {},
   "source": [
    "#### 2) Top N Genres with most songs in top 100 spotify songs"
   ]
  },
  {
   "cell_type": "code",
   "execution_count": null,
   "id": "56de74ee",
   "metadata": {},
   "outputs": [],
   "source": [
    "col"
   ]
  },
  {
   "cell_type": "code",
   "execution_count": null,
   "id": "a6782a71",
   "metadata": {},
   "outputs": [],
   "source": [
    "topN_feat_with_most_songs('top genre', 10)"
   ]
  },
  {
   "cell_type": "markdown",
   "id": "2290258d",
   "metadata": {},
   "source": [
    "#### 3) Percentage Contribution of top genres in Top N Artists with most songs"
   ]
  },
  {
   "cell_type": "code",
   "execution_count": null,
   "id": "3a8985b7",
   "metadata": {},
   "outputs": [],
   "source": [
    "top7_artist = topN_feat_with_most_songs('artist', 7).index\n",
    "\n",
    "top7_artists_df = df[df['artist'].isin(top7_artist)]\n",
    "top7_artists_df.head()"
   ]
  },
  {
   "cell_type": "code",
   "execution_count": null,
   "id": "dd4f59f3",
   "metadata": {},
   "outputs": [],
   "source": [
    "top7_artists_df['top genre'].value_counts(normalize=True)*100"
   ]
  },
  {
   "cell_type": "code",
   "execution_count": null,
   "id": "a75bf99f",
   "metadata": {},
   "outputs": [],
   "source": [
    "print(8/29)\n",
    "print(7/29)"
   ]
  },
  {
   "cell_type": "markdown",
   "id": "3108c4d1",
   "metadata": {},
   "source": [
    "#### 4) Top 5 year contributing most to the spotify top 100 playlist"
   ]
  },
  {
   "cell_type": "code",
   "execution_count": null,
   "id": "562bfbc5",
   "metadata": {},
   "outputs": [],
   "source": [
    "topN_feat_with_most_songs('year', 5)"
   ]
  },
  {
   "cell_type": "code",
   "execution_count": null,
   "id": "56d372e5",
   "metadata": {},
   "outputs": [],
   "source": [
    "print(col)"
   ]
  },
  {
   "cell_type": "markdown",
   "id": "9409b679",
   "metadata": {},
   "source": [
    "#### 5)  Compute Top Genre wise mean of Energy and Polularity"
   ]
  },
  {
   "cell_type": "code",
   "execution_count": null,
   "id": "accb0cc0",
   "metadata": {},
   "outputs": [],
   "source": [
    "# T is transpose\n",
    "res5 = df.groupby('top genre')[['energy', 'popularity']].mean().T\n",
    "res5"
   ]
  },
  {
   "cell_type": "markdown",
   "id": "9ee1ef25",
   "metadata": {},
   "source": [
    "#### 6) Compute Top Genre wise min, max, mean of Energy and mean and median  of liveness"
   ]
  },
  {
   "cell_type": "code",
   "execution_count": null,
   "id": "b3d05517",
   "metadata": {},
   "outputs": [],
   "source": [
    "# agg = aggregate\n",
    "res6 = df.groupby('top genre').agg({'energy':  ['min', 'max', 'mean'],\n",
    "                                    'liveness': ['mean', 'median']})\n",
    "res6.head()"
   ]
  },
  {
   "cell_type": "markdown",
   "id": "5147919c",
   "metadata": {},
   "source": [
    "#### 7) Compute artist wise min, max and mean of popularity and mean & count of liveness"
   ]
  },
  {
   "cell_type": "code",
   "execution_count": null,
   "id": "5b56f7ef",
   "metadata": {},
   "outputs": [],
   "source": [
    "# Std-Deviation = Deviation of data from the mean =>\n",
    "# sqrt(((xi - mean)^2/N))"
   ]
  },
  {
   "cell_type": "code",
   "execution_count": null,
   "id": "0929db85",
   "metadata": {},
   "outputs": [],
   "source": [
    "print(col)"
   ]
  },
  {
   "cell_type": "code",
   "execution_count": null,
   "id": "76ddaadb",
   "metadata": {},
   "outputs": [],
   "source": [
    "res7 = df.groupby('artist').agg({'popularity': [min, max, 'mean'],\n",
    "                                 'liveness': ['mean', 'count']})\n",
    "res7.head()"
   ]
  },
  {
   "cell_type": "markdown",
   "id": "47a6b9c4",
   "metadata": {},
   "source": [
    "#### 8) Generate the statistical summary of the data"
   ]
  },
  {
   "cell_type": "code",
   "execution_count": null,
   "id": "a5987d74",
   "metadata": {},
   "outputs": [],
   "source": [
    "# Statistical summary consists of count,mean,std, min,25%,50%,75% and max\n",
    "# Statistical summary is only generated for numerical columns\n",
    "df.describe()"
   ]
  },
  {
   "cell_type": "code",
   "execution_count": null,
   "id": "5152cad0",
   "metadata": {},
   "outputs": [],
   "source": [
    "df[df['year'] == 1975]"
   ]
  },
  {
   "cell_type": "code",
   "execution_count": null,
   "id": "8aa5722c",
   "metadata": {},
   "outputs": [],
   "source": [
    "plt.boxplot(df['energy'])\n",
    "plt.show()"
   ]
  },
  {
   "cell_type": "markdown",
   "id": "d63eefdc",
   "metadata": {},
   "source": [
    "#### 8) Capture Outliers in Energy"
   ]
  },
  {
   "cell_type": "markdown",
   "id": "76c40ff5",
   "metadata": {},
   "source": [
    "##### Quartile Function & Formulas\n",
    "\n",
    "```\n",
    "Q1 = 1st Quartile = 25 percentile\n",
    "Q2 = 2nd Quartile = 50 percentile\n",
    "Q3 = 3rd Quartile = 75 percentile\n",
    "IQR = Inter Quartile Range = Q3 - Q1\n",
    "bmin = Q1 - 1.5*%IQR\n",
    "bmax = Q3 + 1.5*%IQR\n",
    "Outliers are data points > bmax or < bmin\n",
    "\n",
    "Reliance Mart -> Avg Daily Sales - 20-30K\n",
    "1 or 2 days before 15Aug => avg daily sales = 45-55K\n",
    "3 days before RakshaBandhan => avg daily sales = 55k-70K\n",
    "next day after RakshaBandhan => avg daily sales = 8K-12K\n",
    "Dec-Jan and July-Aug\n",
    "```"
   ]
  },
  {
   "cell_type": "code",
   "execution_count": null,
   "id": "2446c563",
   "metadata": {},
   "outputs": [],
   "source": [
    "en_q1 = df['energy'].quantile(0.25)\n",
    "en_q3 = df['energy'].quantile(0.75)\n",
    "iqr = en_q3 - en_q1\n",
    "en_min, en_max = en_q1 - 1.5*iqr, en_q3 + 1.5*iqr,\n",
    "en_outliers = df[(df['energy'] > en_max) | (df['energy'] < en_min)]\n",
    "en_outliers"
   ]
  },
  {
   "cell_type": "markdown",
   "id": "4a6859ec",
   "metadata": {},
   "source": [
    "#### EDA(Exploratory Data Analysis) using Matplotlib and Pandas"
   ]
  },
  {
   "cell_type": "markdown",
   "id": "1d2f36c0",
   "metadata": {},
   "source": [
    "#### 1) Depict Top N Artists with most songs in top 100 spotify songs"
   ]
  },
  {
   "cell_type": "code",
   "execution_count": null,
   "id": "eb5721c2",
   "metadata": {},
   "outputs": [],
   "source": [
    "def plot_topN_col(feat, N, featname):\n",
    "    res = df[feat].value_counts().head(N)\n",
    "    plt.barh(res.index, res.values, color='orange', edgecolor='black')\n",
    "    plt.title(f'Top {N} {featname} with most songs spotify top 100')\n",
    "    plt.xlabel('Count')\n",
    "    plt.ylabel(f'{featname} Name')\n",
    "    plt.grid()\n",
    "    plt.show()"
   ]
  },
  {
   "cell_type": "markdown",
   "id": "1355ca4a",
   "metadata": {},
   "source": [
    "#### Bar Chart"
   ]
  },
  {
   "cell_type": "code",
   "execution_count": null,
   "id": "50dccd37",
   "metadata": {},
   "outputs": [],
   "source": [
    "plot_topN_col('artist', 7, 'Artist')"
   ]
  },
  {
   "cell_type": "code",
   "execution_count": null,
   "id": "13c3acb7",
   "metadata": {},
   "outputs": [],
   "source": [
    "plot_topN_col('top genre', 10, 'Genre')"
   ]
  },
  {
   "cell_type": "markdown",
   "id": "32bf6a1c",
   "metadata": {},
   "source": [
    "#### 3) Depict Percentage Contribution of top genres in Top 7 Artists with most songs"
   ]
  },
  {
   "cell_type": "code",
   "execution_count": null,
   "id": "664ee27b",
   "metadata": {},
   "outputs": [],
   "source": [
    "pres3 = top7_artists_df['top genre'].value_counts()\n",
    "pres3"
   ]
  },
  {
   "cell_type": "markdown",
   "id": "bd607de6",
   "metadata": {},
   "source": [
    "#### Pie Chart"
   ]
  },
  {
   "cell_type": "code",
   "execution_count": null,
   "id": "3c7cfb80",
   "metadata": {},
   "outputs": [],
   "source": [
    "# autopct = auto percentage\n",
    "plt.pie(pres3.values, labels=pres3.index, autopct='%.0f%%')\n",
    "plt.title('Percentage Contribution of top genres in Top 7 Artists with most songs')\n",
    "plt.show()"
   ]
  },
  {
   "cell_type": "markdown",
   "id": "0cd1eb66",
   "metadata": {},
   "source": [
    "####  Depict year wise number of songs in Spotify top 100"
   ]
  },
  {
   "cell_type": "code",
   "execution_count": null,
   "id": "5dcadf39",
   "metadata": {},
   "outputs": [],
   "source": [
    "pres4 = df['year'].value_counts().head(5)\n",
    "pres4"
   ]
  },
  {
   "cell_type": "code",
   "execution_count": null,
   "id": "fcfec555",
   "metadata": {},
   "outputs": [],
   "source": [
    "# lw  = linewidth,ms= markersize,\n",
    "plt.plot(pres4.index, pres4.values, color='maroon', marker='o', lw=3, ms=10,\n",
    "         linestyle='dotted', mfc='blue')\n",
    "plt.title('Year wise number of songs in Spotify top 100')\n",
    "plt.ylim(8, 22)\n",
    "plt.grid()\n",
    "plt.show()"
   ]
  },
  {
   "cell_type": "code",
   "execution_count": null,
   "id": "86ccb4cb",
   "metadata": {},
   "outputs": [],
   "source": [
    "df.head()"
   ]
  },
  {
   "cell_type": "code",
   "execution_count": null,
   "id": "01ca40fb",
   "metadata": {},
   "outputs": [],
   "source": [
    "# length in sec\n",
    "df['length'].describe()"
   ]
  },
  {
   "cell_type": "markdown",
   "id": "31a8f6b2",
   "metadata": {},
   "source": [
    "#### Converting length of Songs to minutes"
   ]
  },
  {
   "cell_type": "code",
   "execution_count": null,
   "id": "5493d622",
   "metadata": {},
   "outputs": [],
   "source": [
    "# 1-2, 2-3, 3-4, 4-5, 5-6 min\n",
    "\n",
    "df['Length_Bins'] = pd.cut(df['length'], bins=[60, 120, 180, 240, 300, 360],\n",
    "                           labels=['1-2min', '2-3min', '3-4min', '4-5min', '5+min'])\n",
    "res10 = df['Length_Bins'].value_counts()\n",
    "res10"
   ]
  },
  {
   "cell_type": "code",
   "execution_count": null,
   "id": "4de42026",
   "metadata": {},
   "outputs": [],
   "source": [
    "plt.bar(res10.index, res10.values, color='cyan', edgecolor='black')\n",
    "plt.title('Length of Songs')\n",
    "plt.grid()\n",
    "plt.show()"
   ]
  },
  {
   "cell_type": "markdown",
   "id": "1e95aeaa",
   "metadata": {},
   "source": [
    "#### Histogram\n",
    "Used to capture frequency Distribution"
   ]
  },
  {
   "cell_type": "code",
   "execution_count": null,
   "id": "35aedda3",
   "metadata": {},
   "outputs": [],
   "source": [
    "col"
   ]
  },
  {
   "cell_type": "markdown",
   "id": "b2dd0ef1",
   "metadata": {},
   "source": [
    "#### Depict the frequency distribution for speechiness"
   ]
  },
  {
   "cell_type": "code",
   "execution_count": null,
   "id": "5fcc62ff",
   "metadata": {},
   "outputs": [],
   "source": [
    "plt.hist(df['speechiness'], color='lightgreen', edgecolor='black')\n",
    "plt.show()"
   ]
  },
  {
   "cell_type": "code",
   "execution_count": null,
   "id": "887138cc",
   "metadata": {},
   "outputs": [],
   "source": [
    "df.shape"
   ]
  },
  {
   "cell_type": "code",
   "execution_count": null,
   "id": "61dab850",
   "metadata": {},
   "outputs": [],
   "source": [
    "df[df['speechiness'] < 10].shape"
   ]
  },
  {
   "cell_type": "markdown",
   "id": "3f36763b",
   "metadata": {},
   "source": [
    "#### Depict Energy vs Liveness on a ScatterChart"
   ]
  },
  {
   "cell_type": "code",
   "execution_count": null,
   "id": "d67b3aa4",
   "metadata": {},
   "outputs": [],
   "source": [
    "plt.scatter(df['energy'], df['liveness'], color='maroon', marker='D', s=50)\n",
    "plt.title('Energy vs Liveness')\n",
    "plt.xlabel('Energy')\n",
    "plt.ylabel('Liveness')\n",
    "plt.show()"
   ]
  },
  {
   "cell_type": "code",
   "execution_count": null,
   "id": "1af53777",
   "metadata": {},
   "outputs": [],
   "source": [
    "# Plots -\n",
    "# Bar(to compare continuous data for different categories)\n",
    "# Pie Chart(percentage Distribution)\n",
    "# Line Chart(To represent trend)\n",
    "# Histogram(Frequency Distrition)\n",
    "# Boxplot(quartile distribution)\n",
    "# Scatter Chart(Correlation)"
   ]
  },
  {
   "cell_type": "markdown",
   "id": "f3e3b995",
   "metadata": {},
   "source": [
    "----\n",
    "\n",
    "### End Of EDA\n",
    "\n",
    "----"
   ]
  }
 ],
 "metadata": {
  "kernelspec": {
   "display_name": "Python 3 (ipykernel)",
   "language": "python",
   "name": "python3"
  },
  "language_info": {
   "codemirror_mode": {
    "name": "ipython",
    "version": 3
   },
   "file_extension": ".py",
   "mimetype": "text/x-python",
   "name": "python",
   "nbconvert_exporter": "python",
   "pygments_lexer": "ipython3",
   "version": "3.9.13"
  }
 },
 "nbformat": 4,
 "nbformat_minor": 5
}
